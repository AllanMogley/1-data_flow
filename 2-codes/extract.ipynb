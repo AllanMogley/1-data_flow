{
 "cells": [
  {
   "cell_type": "code",
   "execution_count": null,
   "metadata": {},
   "outputs": [],
   "source": [
    "import pandas as pd # type: ignore\n",
    "from arcgis.gis import GIS # type: ignore\n",
    "from arcgis.layers import Service # type: ignore\n",
    "gis = GIS()"
   ]
  },
  {
   "cell_type": "code",
   "execution_count": null,
   "metadata": {},
   "outputs": [],
   "source": [
    "src_url = \"https://services1.arcgis.com/0MSEUqKaxRlEPj5g/arcgis/rest/services/Coronavirus_2019_nCoV_Cases/FeatureServer/1\"\n",
    "fl = Service(src_url)"
   ]
  },
  {
   "cell_type": "code",
   "execution_count": null,
   "metadata": {},
   "outputs": [],
   "source": [
    "fset_usa = fl.query(where=\"Country_Region='US'\")\n",
    "fset_usa"
   ]
  },
  {
   "cell_type": "code",
   "execution_count": null,
   "metadata": {},
   "outputs": [],
   "source": [
    "us_states_item = gis.content.get('99fd67933e754a1181cc755146be21ca')\n",
    "us_states_item"
   ]
  },
  {
   "cell_type": "code",
   "execution_count": null,
   "metadata": {},
   "outputs": [],
   "source": [
    "us_states_flayer = us_states_item.layers[0]\n",
    "us_states_df = us_states_flayer.query(as_df=True)\n",
    "us_states_df.columns"
   ]
  },
  {
   "cell_type": "code",
   "execution_count": null,
   "metadata": {},
   "outputs": [],
   "source": [
    "us_states_df"
   ]
  },
  {
   "cell_type": "code",
   "execution_count": null,
   "metadata": {},
   "outputs": [],
   "source": [
    "df_usa = fset_usa.sdf[['Province_State', 'Confirmed', 'Recovered', 'Deaths']]\n",
    "df_usa = df_usa.assign(STATE_NAME = df_usa[\"Province_State\"])\n",
    "df_usa.head()"
   ]
  },
  {
   "cell_type": "code",
   "execution_count": null,
   "metadata": {},
   "outputs": [],
   "source": [
    "cols_4 = ['STATE_NAME','SHAPE']\n",
    "overlap_rows_usa = pd.merge(left = us_states_df[cols_4], right = df_usa, \n",
    "                            how='inner', on = 'STATE_NAME')\n",
    "overlap_rows_usa.head()"
   ]
  }
 ],
 "metadata": {
  "kernelspec": {
   "display_name": "arcgis",
   "language": "python",
   "name": "python3"
  },
  "language_info": {
   "codemirror_mode": {
    "name": "ipython",
    "version": 3
   },
   "file_extension": ".py",
   "mimetype": "text/x-python",
   "name": "python",
   "nbconvert_exporter": "python",
   "pygments_lexer": "ipython3",
   "version": "3.11.9"
  }
 },
 "nbformat": 4,
 "nbformat_minor": 2
}
